{
 "cells": [
  {
   "cell_type": "code",
   "execution_count": null,
   "metadata": {},
   "outputs": [],
   "source": [
    "!git clone https://github.com/karuniaperjuangan/Twitter-Sentiment-Analysis-NLP-Pra-UTS.git\n"
   ]
  },
  {
   "cell_type": "code",
   "execution_count": null,
   "metadata": {},
   "outputs": [],
   "source": [
    "import os\n",
    "os.chdir(\"Twitter-Sentiment-Analysis-NLP-Pra-UTS\")\n",
    "%pip install -r requirements.txt"
   ]
  },
  {
   "cell_type": "markdown",
   "metadata": {},
   "source": [
    "# Tugas NLP Sentiment Analysis"
   ]
  },
  {
   "cell_type": "code",
   "execution_count": 1,
   "metadata": {},
   "outputs": [
    {
     "name": "stderr",
     "output_type": "stream",
     "text": [
      "2022-10-08 16:30:03.995263: I tensorflow/core/platform/cpu_feature_guard.cc:193] This TensorFlow binary is optimized with oneAPI Deep Neural Network Library (oneDNN) to use the following CPU instructions in performance-critical operations:  AVX2 FMA\n",
      "To enable them in other operations, rebuild TensorFlow with the appropriate compiler flags.\n",
      "2022-10-08 16:30:04.146434: E tensorflow/stream_executor/cuda/cuda_blas.cc:2981] Unable to register cuBLAS factory: Attempting to register factory for plugin cuBLAS when one has already been registered\n",
      "2022-10-08 16:30:04.599025: W tensorflow/stream_executor/platform/default/dso_loader.cc:64] Could not load dynamic library 'libnvinfer.so.7'; dlerror: libnvinfer.so.7: cannot open shared object file: No such file or directory; LD_LIBRARY_PATH: /usr/lib/wsl/lib::/usr/local/cuda-11.2/targets/x86_64-linux/lib\n",
      "2022-10-08 16:30:04.600070: W tensorflow/stream_executor/platform/default/dso_loader.cc:64] Could not load dynamic library 'libnvinfer_plugin.so.7'; dlerror: libnvinfer_plugin.so.7: cannot open shared object file: No such file or directory; LD_LIBRARY_PATH: /usr/lib/wsl/lib::/usr/local/cuda-11.2/targets/x86_64-linux/lib\n",
      "2022-10-08 16:30:04.600083: W tensorflow/compiler/tf2tensorrt/utils/py_utils.cc:38] TF-TRT Warning: Cannot dlopen some TensorRT libraries. If you would like to use Nvidia GPU with TensorRT, please make sure the missing libraries mentioned above are installed properly.\n"
     ]
    }
   ],
   "source": [
    "import gradio as gr\n",
    "from transformers import pipeline\n",
    "import pandas as pd\n",
    "from torch.utils.data import Dataset, DataLoader\n",
    "import torch\n",
    "import gc\n",
    "import re\n",
    "from tqdm import tqdm\n",
    "import matplotlib.pyplot as plt\n",
    "import snscrape.modules.twitter as sntwitter\n",
    "import datetime as dt"
   ]
  },
  {
   "cell_type": "code",
   "execution_count": 2,
   "metadata": {},
   "outputs": [
    {
     "name": "stdout",
     "output_type": "stream",
     "text": [
      "GPU is available\n",
      "NVIDIA GeForce RTX 3060\n",
      "Sat Oct  8 16:30:05 2022       \n",
      "+-----------------------------------------------------------------------------+\n",
      "| NVIDIA-SMI 515.65.01    Driver Version: 516.94       CUDA Version: 11.7     |\n",
      "|-------------------------------+----------------------+----------------------+\n",
      "| GPU  Name        Persistence-M| Bus-Id        Disp.A | Volatile Uncorr. ECC |\n",
      "| Fan  Temp  Perf  Pwr:Usage/Cap|         Memory-Usage | GPU-Util  Compute M. |\n",
      "|                               |                      |               MIG M. |\n",
      "|===============================+======================+======================|\n",
      "|   0  NVIDIA GeForce ...  On   | 00000000:2B:00.0  On |                  N/A |\n",
      "|  0%   52C    P8     6W / 170W |    776MiB / 12288MiB |     11%      Default |\n",
      "|                               |                      |                  N/A |\n",
      "+-------------------------------+----------------------+----------------------+\n",
      "                                                                               \n",
      "+-----------------------------------------------------------------------------+\n",
      "| Processes:                                                                  |\n",
      "|  GPU   GI   CI        PID   Type   Process name                  GPU Memory |\n",
      "|        ID   ID                                                   Usage      |\n",
      "|=============================================================================|\n",
      "|  No running processes found                                                 |\n",
      "+-----------------------------------------------------------------------------+\n"
     ]
    }
   ],
   "source": [
    "device = torch.device(\"cuda\" if torch.cuda.is_available() else \"cpu\")\n",
    "if torch.cuda.is_available():\n",
    "    print(\"GPU is available\")\n",
    "    print(torch.cuda.get_device_name(0))\n",
    "    !nvidia-smi"
   ]
  },
  {
   "cell_type": "markdown",
   "metadata": {},
   "source": [
    "# Scraping"
   ]
  },
  {
   "cell_type": "code",
   "execution_count": null,
   "metadata": {},
   "outputs": [],
   "source": [
    "def scrape_tweets(query, max_tweets=-1,output_path=\"./scraper/output/\" ): \n",
    "    output_path = os.path.join(output_path,dt.datetime.now().strftime(\"%Y-%m-%d_%H-%M-%S\")+\"-\"+str(query)+\".csv\")\n",
    "    \n",
    "    tweets_list = []\n",
    "    try:\n",
    "        for i,tweet in tqdm(enumerate(sntwitter.TwitterSearchScraper(query).get_items())):\n",
    "            if max_tweets != -1 and i >= int(max_tweets):\n",
    "                break\n",
    "            tweets_list.append([tweet.date, tweet.id, tweet.content, tweet.user.username, tweet.likeCount, tweet.retweetCount, tweet.replyCount, tweet.quoteCount, tweet.url, tweet.lang])\n",
    "    except KeyboardInterrupt:\n",
    "        print(\"Scraping berhenti atas permintaan pengguna\")\n",
    "    df = pd.DataFrame(tweets_list, columns=['Datetime', 'Tweet Id', 'Text', 'Username', 'Likes', 'Retweets', 'Replies', 'Quotes', 'URL', 'Language'])\n",
    "    df_id = df[df[\"Language\"] == \"id\"]\n",
    "    df_id.to_csv(output_path, index=False)\n",
    "    return df_id\n",
    "\n",
    "\n",
    "\n",
    "def remove_unnecessary_char(text):\n",
    "  text = re.sub(\"\\[USERNAME\\]\", \" \", text)\n",
    "  text = re.sub(\"\\[URL\\]\", \" \", text)\n",
    "  text = re.sub(\"\\[SENSITIVE-NO\\]\", \" \", text)\n",
    "  text = re.sub('  +', ' ', text)\n",
    "  return text\n",
    "\n",
    "def preprocess_tweet(text):\n",
    "  text = re.sub('\\n',' ',text) # Remove every '\\n'\n",
    "  # text = re.sub('rt',' ',text) # Remove every retweet symbol\n",
    "  text = re.sub('^(\\@\\w+ ?)+',' ',text)\n",
    "  text = re.sub(r'\\@\\w+',' ',text) # Remove every username\n",
    "  text = re.sub('((www\\.[^\\s]+)|(https?://[^\\s]+)|(http?://[^\\s]+))',' ',text) # Remove every URL\n",
    "  text = re.sub('/', ' ', text)\n",
    "  # text = re.sub(r'[^\\w\\s]', '', text)\n",
    "  text = re.sub('  +', ' ', text) # Remove extra spaces\n",
    "  return text\n",
    "    \n",
    "def remove_nonaplhanumeric(text):\n",
    "  text = re.sub('[^0-9a-zA-Z]+', ' ', text) \n",
    "  return text\n",
    "\n",
    "def preprocess_text(text):\n",
    "  text = preprocess_tweet(text)\n",
    "  text = remove_unnecessary_char(text)\n",
    "  text = text.lower()\n",
    "  return text"
   ]
  },
  {
   "cell_type": "code",
   "execution_count": 13,
   "metadata": {},
   "outputs": [],
   "source": [
    "predict = pipeline('text-classification',\n",
    "                   model='karuniaperjuangan/smsa-distilbert-indo',\n",
    "                    device=0 if torch.cuda.is_available() else -1)\n",
    "\n",
    "def analyze_df_sentiment(df, batch_size):\n",
    "    text_list = list(df[\"Text\"].astype(str).values)\n",
    "    text_list_batches = [text_list[i:i+batch_size] for i in range(0,len(text_list),batch_size)] # Memisahkan berdasar batch size dengan bantuan zip\n",
    "    \n",
    "    predictions = []\n",
    "    for batch in tqdm(text_list_batches):\n",
    "        batch_predictions = predict(batch)\n",
    "        predictions += batch_predictions\n",
    "    df[\"Label\"] = [pred[\"label\"] for pred in predictions]\n",
    "    df[\"Score\"] = [pred[\"score\"] for pred in predictions]\n",
    "    \n",
    "    return df\n",
    "\n",
    "def keyword_analyzer(keyword, max_tweets, batch_size=16):\n",
    "    print(\"Scraping tweets...\")\n",
    "    df = scrape_tweets(keyword, max_tweets=max_tweets)\n",
    "    df[\"Text\"] = df[\"Text\"].apply(preprocess_text)\n",
    "    print(\"Analyzing sentiment...\")\n",
    "    df = analyze_df_sentiment(df, batch_size=batch_size)\n",
    "    fig = plt.figure()\n",
    "    df.groupby([\"Label\"])[\"Text\"].count().plot.pie(autopct=\"%.1f%%\", figsize=(6,6))\n",
    "    return fig, df[[\"Text\", \"Label\", \"Score\"]]\n",
    " "
   ]
  },
  {
   "cell_type": "markdown",
   "metadata": {},
   "source": [
    "# Web UI"
   ]
  },
  {
   "cell_type": "code",
   "execution_count": 15,
   "metadata": {},
   "outputs": [
    {
     "name": "stdout",
     "output_type": "stream",
     "text": [
      "Running on local URL:  http://127.0.0.1:7867\n",
      "\n",
      "To create a public link, set `share=True` in `launch()`.\n"
     ]
    },
    {
     "data": {
      "text/html": [
       "<div><iframe src=\"http://127.0.0.1:7867/\" width=\"900\" height=\"500\" allow=\"autoplay; camera; microphone; clipboard-read; clipboard-write;\" frameborder=\"0\" allowfullscreen></iframe></div>"
      ],
      "text/plain": [
       "<IPython.core.display.HTML object>"
      ]
     },
     "metadata": {},
     "output_type": "display_data"
    },
    {
     "data": {
      "text/plain": [
       "(<gradio.routes.App at 0x7fb6f40542e0>, 'http://127.0.0.1:7867/', None)"
      ]
     },
     "execution_count": 15,
     "metadata": {},
     "output_type": "execute_result"
    },
    {
     "data": {
      "image/png": "[encoded data removed]",
      "text/plain": [
       "<Figure size 432x432 with 1 Axes>"
      ]
     },
     "metadata": {},
     "output_type": "display_data"
    }
   ],
   "source": [
    "with gr.Blocks() as demo:\n",
    "    \n",
    "\n",
    "\n",
    "    gr.Markdown(\"\"\"<h1 style=\"text-align:center\">Aplikasi Sentiment Analysis Keyword Twitter </h1>\"\"\")\n",
    "    \n",
    "    gr.Markdown(\n",
    "        \"\"\"\n",
    "        Aplikasi ini digunakan untuk melakukan sentimen analisis terhadap data di Twitter menggunakan model DistilBERT. Terdapat 2 mode yang dapat digunakan:\n",
    "        1. Trend/Keyword: Untuk melakukan analisis terhadap semua tweet yang mengandung keyword yang diinputkan\n",
    "        2. Tweet: Untuk melakukan analisis terhadap sebuah tweet yang diinputkan\n",
    "        \"\"\"\n",
    "        \n",
    "        )\n",
    "    with gr.Tab(\"Trend/Keyword\"):\n",
    "        gr.Markdown(\"\"\"Masukkan keyword dan jumlah maksimum tweet yang ingin diambil\"\"\")\n",
    "        with gr.Blocks():\n",
    "            with gr.Row():\n",
    "                with gr.Column():\n",
    "                    keyword_textbox = gr.Textbox(lines=1, label=\"Keyword\")\n",
    "                    max_tweets_component = gr.Number(value=-1, label=\"Tweet Maksimal yang akan discrape (-1 jika ingin mengscrape semua tweet)\", precision=0)\n",
    "                    batch_size_component = gr.Number(value=16, label=\"Batch Size\", precision=0)\n",
    "                    button = gr.Button(\"Submit\")\n",
    "                    \n",
    "                plot_component = gr.Plot(label=\"Pie Chart\")\n",
    "            dataframe_component = gr.DataFrame(type=\"pandas\", \n",
    "                                               label=\"Dataframe\", \n",
    "                                               max_rows=(20,'fixed'), \n",
    "                                               overflow_row_behaviour='paginate', \n",
    "                                               wrap=True)\n",
    "\n",
    "        \n",
    "        \n",
    "    with gr.Tab(\"Single Tweet\"):\n",
    "        gr.Interface(lambda Tweet: (predict(Tweet)[0]['label'], predict(Tweet)[0]['score']), \n",
    "                     \"textbox\",\n",
    "                     [\"label\", \"label\"],\n",
    "                     allow_flagging='never',\n",
    "                     )\n",
    "    \n",
    "    \n",
    "    gr.Markdown(\n",
    "            \"\"\"\n",
    "            \n",
    "            ## Anggota Kelompok\n",
    "            \n",
    "            - Karunia Perjuangan Mustadl'afin - 20/456368/TK/50498\n",
    "            \n",
    "            - Pramudya Kusuma Hardika - 20/460558/TK/51147\n",
    "            \n",
    "            \"\"\"\n",
    "            \n",
    "        )\n",
    "    \n",
    "    button.click(keyword_analyzer, \n",
    "                inputs=[keyword_textbox, max_tweets_component, batch_size_component], \n",
    "                outputs=[plot_component, dataframe_component])\n",
    "\n",
    "demo.launch(inbrowser=True)"
   ]
  }
 ],
 "metadata": {
  "kernelspec": {
   "display_name": "Python 3.9.12 ('base')",
   "language": "python",
   "name": "python3"
  },
  "language_info": {
   "codemirror_mode": {
    "name": "ipython",
    "version": 3
   },
   "file_extension": ".py",
   "mimetype": "text/x-python",
   "name": "python",
   "nbconvert_exporter": "python",
   "pygments_lexer": "ipython3",
   "version": "3.9.12"
  },
  "orig_nbformat": 4,
  "vscode": {
   "interpreter": {
    "hash": "81bd2ac432b5952ddf1c49649eb1e47a752045e4beee075d8314834b79b876ce"
   }
  }
 },
 "nbformat": 4,
 "nbformat_minor": 2
}
