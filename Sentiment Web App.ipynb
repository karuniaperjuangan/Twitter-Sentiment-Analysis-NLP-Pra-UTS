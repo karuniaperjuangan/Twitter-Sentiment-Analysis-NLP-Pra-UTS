{
  "cells": [
    {
      "cell_type": "markdown",
      "metadata": {
        "id": "1y9mx5erQJrn"
      },
      "source": [
        "Jalankan kode ini jika kita menggunakan Google Colab. Untuk prediksi yang lebih cepat, disarankan mengaktifkan mode GPU di Google Colab."
      ]
    },
    {
      "cell_type": "code",
      "execution_count": 1,
      "metadata": {
        "colab": {
          "base_uri": "https://localhost:8080/"
        },
        "id": "2UoGs4SZS06Q",
        "outputId": "7b3e30a4-5fe0-4ff8-8ab5-0bece29174bd"
      },
      "outputs": [
        {
          "name": "stdout",
          "output_type": "stream",
          "text": [
            "Cloning into 'Twitter-Sentiment-Analysis-NLP-Pra-UTS'...\n",
            "remote: Enumerating objects: 40, done.\u001b[K\n",
            "remote: Counting objects: 100% (40/40), done.\u001b[K\n",
            "remote: Compressing objects: 100% (28/28), done.\u001b[K\n",
            "remote: Total 40 (delta 9), reused 34 (delta 7), pack-reused 0\u001b[K\n",
            "Unpacking objects: 100% (40/40), done.\n"
          ]
        }
      ],
      "source": [
        "!git clone https://github.com/karuniaperjuangan/Twitter-Sentiment-Analysis-NLP-Pra-UTS.git\n",
        "import os\n",
        "os.chdir(\"Twitter-Sentiment-Analysis-NLP-Pra-UTS\")"
      ]
    },
    {
      "cell_type": "code",
      "execution_count": 3,
      "metadata": {
        "colab": {
          "base_uri": "https://localhost:8080/"
        },
        "id": "3N38cPKbYUnF",
        "outputId": "b6645b31-4860-4019-e3b0-4cd7eeb7d3b8"
      },
      "outputs": [
        {
          "name": "stdout",
          "output_type": "stream",
          "text": [
            "Looking in indexes: https://pypi.org/simple, https://us-python.pkg.dev/colab-wheels/public/simple/\n",
            "Collecting snscrape\n",
            "  Downloading snscrape-0.3.4-py3-none-any.whl (35 kB)\n",
            "Requirement already satisfied: tqdm in /usr/local/lib/python3.7/dist-packages (from -r requirements.txt (line 2)) (4.64.1)\n",
            "Collecting transformers\n",
            "  Downloading transformers-4.22.2-py3-none-any.whl (4.9 MB)\n",
            "\u001b[K     |████████████████████████████████| 4.9 MB 8.3 MB/s \n",
            "\u001b[?25hRequirement already satisfied: pandas in /usr/local/lib/python3.7/dist-packages (from -r requirements.txt (line 4)) (1.3.5)\n",
            "Requirement already satisfied: torch in /usr/local/lib/python3.7/dist-packages (from -r requirements.txt (line 5)) (1.12.1+cu113)\n",
            "Requirement already satisfied: matplotlib in /usr/local/lib/python3.7/dist-packages (from -r requirements.txt (line 6)) (3.2.2)\n",
            "Collecting gradio\n",
            "  Downloading gradio-3.4.1-py3-none-any.whl (5.3 MB)\n",
            "\u001b[K     |████████████████████████████████| 5.3 MB 37.8 MB/s \n",
            "\u001b[?25hRequirement already satisfied: numpy in /usr/local/lib/python3.7/dist-packages (from -r requirements.txt (line 8)) (1.21.6)\n",
            "Requirement already satisfied: beautifulsoup4 in /usr/local/lib/python3.7/dist-packages (from snscrape->-r requirements.txt (line 1)) (4.6.3)\n",
            "Requirement already satisfied: requests[socks] in /usr/local/lib/python3.7/dist-packages (from snscrape->-r requirements.txt (line 1)) (2.23.0)\n",
            "Requirement already satisfied: lxml in /usr/local/lib/python3.7/dist-packages (from snscrape->-r requirements.txt (line 1)) (4.9.1)\n",
            "Requirement already satisfied: packaging>=20.0 in /usr/local/lib/python3.7/dist-packages (from transformers->-r requirements.txt (line 3)) (21.3)\n",
            "Requirement already satisfied: filelock in /usr/local/lib/python3.7/dist-packages (from transformers->-r requirements.txt (line 3)) (3.8.0)\n",
            "Requirement already satisfied: pyyaml>=5.1 in /usr/local/lib/python3.7/dist-packages (from transformers->-r requirements.txt (line 3)) (6.0)\n",
            "Requirement already satisfied: importlib-metadata in /usr/local/lib/python3.7/dist-packages (from transformers->-r requirements.txt (line 3)) (5.0.0)\n",
            "Collecting tokenizers!=0.11.3,<0.13,>=0.11.1\n",
            "  Downloading tokenizers-0.12.1-cp37-cp37m-manylinux_2_12_x86_64.manylinux2010_x86_64.whl (6.6 MB)\n",
            "\u001b[K     |████████████████████████████████| 6.6 MB 36.1 MB/s \n",
            "\u001b[?25hCollecting huggingface-hub<1.0,>=0.9.0\n",
            "  Downloading huggingface_hub-0.10.0-py3-none-any.whl (163 kB)\n",
            "\u001b[K     |████████████████████████████████| 163 kB 56.4 MB/s \n",
            "\u001b[?25hRequirement already satisfied: regex!=2019.12.17 in /usr/local/lib/python3.7/dist-packages (from transformers->-r requirements.txt (line 3)) (2022.6.2)\n",
            "Requirement already satisfied: typing-extensions>=3.7.4.3 in /usr/local/lib/python3.7/dist-packages (from huggingface-hub<1.0,>=0.9.0->transformers->-r requirements.txt (line 3)) (4.1.1)\n",
            "Requirement already satisfied: pyparsing!=3.0.5,>=2.0.2 in /usr/local/lib/python3.7/dist-packages (from packaging>=20.0->transformers->-r requirements.txt (line 3)) (3.0.9)\n",
            "Requirement already satisfied: python-dateutil>=2.7.3 in /usr/local/lib/python3.7/dist-packages (from pandas->-r requirements.txt (line 4)) (2.8.2)\n",
            "Requirement already satisfied: pytz>=2017.3 in /usr/local/lib/python3.7/dist-packages (from pandas->-r requirements.txt (line 4)) (2022.4)\n",
            "Requirement already satisfied: six>=1.5 in /usr/local/lib/python3.7/dist-packages (from python-dateutil>=2.7.3->pandas->-r requirements.txt (line 4)) (1.15.0)\n",
            "Requirement already satisfied: cycler>=0.10 in /usr/local/lib/python3.7/dist-packages (from matplotlib->-r requirements.txt (line 6)) (0.11.0)\n",
            "Requirement already satisfied: kiwisolver>=1.0.1 in /usr/local/lib/python3.7/dist-packages (from matplotlib->-r requirements.txt (line 6)) (1.4.4)\n",
            "Collecting orjson\n",
            "  Downloading orjson-3.8.0-cp37-cp37m-manylinux_2_17_x86_64.manylinux2014_x86_64.whl (270 kB)\n",
            "\u001b[K     |████████████████████████████████| 270 kB 59.4 MB/s \n",
            "\u001b[?25hCollecting uvicorn\n",
            "  Downloading uvicorn-0.18.3-py3-none-any.whl (57 kB)\n",
            "\u001b[K     |████████████████████████████████| 57 kB 6.2 MB/s \n",
            "\u001b[?25hCollecting httpx\n",
            "  Downloading httpx-0.23.0-py3-none-any.whl (84 kB)\n",
            "\u001b[K     |████████████████████████████████| 84 kB 3.2 MB/s \n",
            "\u001b[?25hCollecting pydub\n",
            "  Downloading pydub-0.25.1-py2.py3-none-any.whl (32 kB)\n",
            "Collecting markdown-it-py[linkify,plugins]\n",
            "  Downloading markdown_it_py-2.1.0-py3-none-any.whl (84 kB)\n",
            "\u001b[K     |████████████████████████████████| 84 kB 3.6 MB/s \n",
            "\u001b[?25hCollecting pycryptodome\n",
            "  Downloading pycryptodome-3.15.0-cp35-abi3-manylinux2010_x86_64.whl (2.3 MB)\n",
            "\u001b[K     |████████████████████████████████| 2.3 MB 58.3 MB/s \n",
            "\u001b[?25hCollecting fastapi\n",
            "  Downloading fastapi-0.85.0-py3-none-any.whl (55 kB)\n",
            "\u001b[K     |████████████████████████████████| 55 kB 3.6 MB/s \n",
            "\u001b[?25hRequirement already satisfied: jinja2 in /usr/local/lib/python3.7/dist-packages (from gradio->-r requirements.txt (line 7)) (2.11.3)\n",
            "Requirement already satisfied: fsspec in /usr/local/lib/python3.7/dist-packages (from gradio->-r requirements.txt (line 7)) (2022.8.2)\n",
            "Collecting h11<0.13,>=0.11\n",
            "  Downloading h11-0.12.0-py3-none-any.whl (54 kB)\n",
            "\u001b[K     |████████████████████████████████| 54 kB 3.2 MB/s \n",
            "\u001b[?25hCollecting python-multipart\n",
            "  Downloading python-multipart-0.0.5.tar.gz (32 kB)\n",
            "Requirement already satisfied: aiohttp in /usr/local/lib/python3.7/dist-packages (from gradio->-r requirements.txt (line 7)) (3.8.3)\n",
            "Requirement already satisfied: pydantic in /usr/local/lib/python3.7/dist-packages (from gradio->-r requirements.txt (line 7)) (1.9.2)\n",
            "Collecting ffmpy\n",
            "  Downloading ffmpy-0.3.0.tar.gz (4.8 kB)\n",
            "Collecting websockets\n",
            "  Downloading websockets-10.3-cp37-cp37m-manylinux_2_5_x86_64.manylinux1_x86_64.manylinux_2_12_x86_64.manylinux2010_x86_64.whl (112 kB)\n",
            "\u001b[K     |████████████████████████████████| 112 kB 62.7 MB/s \n",
            "\u001b[?25hCollecting paramiko\n",
            "  Downloading paramiko-2.11.0-py2.py3-none-any.whl (212 kB)\n",
            "\u001b[K     |████████████████████████████████| 212 kB 58.4 MB/s \n",
            "\u001b[?25hRequirement already satisfied: pillow in /usr/local/lib/python3.7/dist-packages (from gradio->-r requirements.txt (line 7)) (7.1.2)\n",
            "Requirement already satisfied: async-timeout<5.0,>=4.0.0a3 in /usr/local/lib/python3.7/dist-packages (from aiohttp->gradio->-r requirements.txt (line 7)) (4.0.2)\n",
            "Requirement already satisfied: aiosignal>=1.1.2 in /usr/local/lib/python3.7/dist-packages (from aiohttp->gradio->-r requirements.txt (line 7)) (1.2.0)\n",
            "Requirement already satisfied: multidict<7.0,>=4.5 in /usr/local/lib/python3.7/dist-packages (from aiohttp->gradio->-r requirements.txt (line 7)) (6.0.2)\n",
            "Requirement already satisfied: frozenlist>=1.1.1 in /usr/local/lib/python3.7/dist-packages (from aiohttp->gradio->-r requirements.txt (line 7)) (1.3.1)\n",
            "Requirement already satisfied: attrs>=17.3.0 in /usr/local/lib/python3.7/dist-packages (from aiohttp->gradio->-r requirements.txt (line 7)) (22.1.0)\n",
            "Requirement already satisfied: asynctest==0.13.0 in /usr/local/lib/python3.7/dist-packages (from aiohttp->gradio->-r requirements.txt (line 7)) (0.13.0)\n",
            "Requirement already satisfied: yarl<2.0,>=1.0 in /usr/local/lib/python3.7/dist-packages (from aiohttp->gradio->-r requirements.txt (line 7)) (1.8.1)\n",
            "Requirement already satisfied: charset-normalizer<3.0,>=2.0 in /usr/local/lib/python3.7/dist-packages (from aiohttp->gradio->-r requirements.txt (line 7)) (2.1.1)\n",
            "Requirement already satisfied: idna>=2.0 in /usr/local/lib/python3.7/dist-packages (from yarl<2.0,>=1.0->aiohttp->gradio->-r requirements.txt (line 7)) (2.10)\n",
            "Collecting starlette==0.20.4\n",
            "  Downloading starlette-0.20.4-py3-none-any.whl (63 kB)\n",
            "\u001b[K     |████████████████████████████████| 63 kB 2.2 MB/s \n",
            "\u001b[?25hCollecting anyio<5,>=3.4.0\n",
            "  Downloading anyio-3.6.1-py3-none-any.whl (80 kB)\n",
            "\u001b[K     |████████████████████████████████| 80 kB 9.4 MB/s \n",
            "\u001b[?25hCollecting sniffio>=1.1\n",
            "  Downloading sniffio-1.3.0-py3-none-any.whl (10 kB)\n",
            "Collecting rfc3986[idna2008]<2,>=1.3\n",
            "  Downloading rfc3986-1.5.0-py2.py3-none-any.whl (31 kB)\n",
            "Collecting httpcore<0.16.0,>=0.15.0\n",
            "  Downloading httpcore-0.15.0-py3-none-any.whl (68 kB)\n",
            "\u001b[K     |████████████████████████████████| 68 kB 6.6 MB/s \n",
            "\u001b[?25hRequirement already satisfied: certifi in /usr/local/lib/python3.7/dist-packages (from httpx->gradio->-r requirements.txt (line 7)) (2022.9.24)\n",
            "Requirement already satisfied: zipp>=0.5 in /usr/local/lib/python3.7/dist-packages (from importlib-metadata->transformers->-r requirements.txt (line 3)) (3.8.1)\n",
            "Requirement already satisfied: MarkupSafe>=0.23 in /usr/local/lib/python3.7/dist-packages (from jinja2->gradio->-r requirements.txt (line 7)) (2.0.1)\n",
            "Collecting mdurl~=0.1\n",
            "  Downloading mdurl-0.1.2-py3-none-any.whl (10.0 kB)\n",
            "Collecting mdit-py-plugins\n",
            "  Downloading mdit_py_plugins-0.3.1-py3-none-any.whl (46 kB)\n",
            "\u001b[K     |████████████████████████████████| 46 kB 4.0 MB/s \n",
            "\u001b[?25hCollecting linkify-it-py~=1.0\n",
            "  Downloading linkify_it_py-1.0.3-py3-none-any.whl (19 kB)\n",
            "Collecting uc-micro-py\n",
            "  Downloading uc_micro_py-1.0.1-py3-none-any.whl (6.2 kB)\n",
            "Collecting bcrypt>=3.1.3\n",
            "  Downloading bcrypt-4.0.0-cp36-abi3-manylinux_2_24_x86_64.whl (594 kB)\n",
            "\u001b[K     |████████████████████████████████| 594 kB 59.3 MB/s \n",
            "\u001b[?25hCollecting pynacl>=1.0.1\n",
            "  Downloading PyNaCl-1.5.0-cp36-abi3-manylinux_2_17_x86_64.manylinux2014_x86_64.manylinux_2_24_x86_64.whl (856 kB)\n",
            "\u001b[K     |████████████████████████████████| 856 kB 51.7 MB/s \n",
            "\u001b[?25hCollecting cryptography>=2.5\n",
            "  Downloading cryptography-38.0.1-cp36-abi3-manylinux_2_24_x86_64.whl (4.0 MB)\n",
            "\u001b[K     |████████████████████████████████| 4.0 MB 37.3 MB/s \n",
            "\u001b[?25hRequirement already satisfied: cffi>=1.12 in /usr/local/lib/python3.7/dist-packages (from cryptography>=2.5->paramiko->gradio->-r requirements.txt (line 7)) (1.15.1)\n",
            "Requirement already satisfied: pycparser in /usr/local/lib/python3.7/dist-packages (from cffi>=1.12->cryptography>=2.5->paramiko->gradio->-r requirements.txt (line 7)) (2.21)\n",
            "Requirement already satisfied: chardet<4,>=3.0.2 in /usr/local/lib/python3.7/dist-packages (from requests[socks]->snscrape->-r requirements.txt (line 1)) (3.0.4)\n",
            "Requirement already satisfied: urllib3!=1.25.0,!=1.25.1,<1.26,>=1.21.1 in /usr/local/lib/python3.7/dist-packages (from requests[socks]->snscrape->-r requirements.txt (line 1)) (1.24.3)\n",
            "Requirement already satisfied: PySocks!=1.5.7,>=1.5.6 in /usr/local/lib/python3.7/dist-packages (from requests[socks]->snscrape->-r requirements.txt (line 1)) (1.7.1)\n",
            "Requirement already satisfied: click>=7.0 in /usr/local/lib/python3.7/dist-packages (from uvicorn->gradio->-r requirements.txt (line 7)) (7.1.2)\n",
            "Building wheels for collected packages: ffmpy, python-multipart\n",
            "  Building wheel for ffmpy (setup.py) ... \u001b[?25l\u001b[?25hdone\n",
            "  Created wheel for ffmpy: filename=ffmpy-0.3.0-py3-none-any.whl size=4712 sha256=8278a20ff068a16ebe3cb4f5758c8c8bf1f880cf93f9374971173af6c1665d12\n",
            "  Stored in directory: /root/.cache/pip/wheels/13/e4/6c/e8059816e86796a597c6e6b0d4c880630f51a1fcfa0befd5e6\n",
            "  Building wheel for python-multipart (setup.py) ... \u001b[?25l\u001b[?25hdone\n",
            "  Created wheel for python-multipart: filename=python_multipart-0.0.5-py3-none-any.whl size=31678 sha256=d97d7dd63b01537f164cc39d5ed0e665bca2a2a3c0c745b275d5b1ee037c3261\n",
            "  Stored in directory: /root/.cache/pip/wheels/2c/41/7c/bfd1c180534ffdcc0972f78c5758f89881602175d48a8bcd2c\n",
            "Successfully built ffmpy python-multipart\n",
            "Installing collected packages: sniffio, mdurl, uc-micro-py, rfc3986, markdown-it-py, h11, anyio, starlette, pynacl, mdit-py-plugins, linkify-it-py, httpcore, cryptography, bcrypt, websockets, uvicorn, tokenizers, python-multipart, pydub, pycryptodome, paramiko, orjson, huggingface-hub, httpx, ffmpy, fastapi, transformers, snscrape, gradio\n",
            "Successfully installed anyio-3.6.1 bcrypt-4.0.0 cryptography-38.0.1 fastapi-0.85.0 ffmpy-0.3.0 gradio-3.4.1 h11-0.12.0 httpcore-0.15.0 httpx-0.23.0 huggingface-hub-0.10.0 linkify-it-py-1.0.3 markdown-it-py-2.1.0 mdit-py-plugins-0.3.1 mdurl-0.1.2 orjson-3.8.0 paramiko-2.11.0 pycryptodome-3.15.0 pydub-0.25.1 pynacl-1.5.0 python-multipart-0.0.5 rfc3986-1.5.0 sniffio-1.3.0 snscrape-0.3.4 starlette-0.20.4 tokenizers-0.12.1 transformers-4.22.2 uc-micro-py-1.0.1 uvicorn-0.18.3 websockets-10.3\n"
          ]
        }
      ],
      "source": [
        "!pip install -r requirements.txt"
      ]
    },
    {
      "cell_type": "markdown",
      "metadata": {
        "id": "OWyQR4YfQJrr"
      },
      "source": [
        "# Tugas NLP Sentiment Analysis"
      ]
    },
    {
      "cell_type": "markdown",
      "metadata": {},
      "source": [
        "Pada tugas kali ini, kita akan melakukan sentiment Analysis terhadap teks yang discrape dari Twitter. Model yang kita gunakan adalah DistilBERT yang sudah ditraining dalam [Notebook yang berbeda](https://github.com/karuniaperjuangan/Twitter-Sentiment-Analysis-NLP-Pra-UTS/blob/main/training/Training%20Model.ipynb) dengan dataset Sentiment Analysis IndoNLU yang fokus pada bahasa Indonesia. Alasan penggunaan DistilBERT ada di slide presentasi. Kita di sini lebih fokus ke inferencing."
      ]
    },
    {
      "cell_type": "markdown",
      "metadata": {},
      "source": [
        "Import beberapa Library yang diperlukan dahulu"
      ]
    },
    {
      "cell_type": "code",
      "execution_count": 4,
      "metadata": {
        "id": "PXraelR2QJrr"
      },
      "outputs": [],
      "source": [
        "import gradio as gr # Untuk UI\n",
        "from transformers import pipeline\n",
        "import pandas as pd\n",
        "from torch.utils.data import Dataset, DataLoader\n",
        "import torch\n",
        "import gc\n",
        "import re\n",
        "from tqdm import tqdm\n",
        "import matplotlib.pyplot as plt\n",
        "import snscrape.modules.twitter as sntwitter\n",
        "import datetime as dt"
      ]
    },
    {
      "cell_type": "markdown",
      "metadata": {},
      "source": [
        "Gunakan GPU jika memungkinkan."
      ]
    },
    {
      "cell_type": "code",
      "execution_count": 5,
      "metadata": {
        "id": "zqpAkaQmQJrr"
      },
      "outputs": [],
      "source": [
        "device = torch.device(\"cuda\" if torch.cuda.is_available() else \"cpu\")\n",
        "if torch.cuda.is_available():\n",
        "    print(\"GPU is available\")\n",
        "    print(torch.cuda.get_device_name(0))\n",
        "    !nvidia-smi"
      ]
    },
    {
      "cell_type": "markdown",
      "metadata": {
        "id": "G1-VbuZ0QJrs"
      },
      "source": [
        "# Scraping"
      ]
    },
    {
      "cell_type": "markdown",
      "metadata": {},
      "source": [
        "Kita akan melakukan scraping Twitter dengan bantuan SNScrape. Kita akan lebih fokus ke isi teks Twitter."
      ]
    },
    {
      "cell_type": "code",
      "execution_count": 23,
      "metadata": {
        "id": "O6QCszMnQJrs"
      },
      "outputs": [],
      "source": [
        "def scrape_tweets(query, max_tweets=-1,output_path=\"./scraper/output/\" ): \n",
        "    output_path = os.path.join(output_path,dt.datetime.now().strftime(\"%Y-%m-%d_%H-%M-%S\")+\"-\"+str(query)+\".csv\")\n",
        "    \n",
        "    tweets_list = []\n",
        "    try:\n",
        "        for i,tweet in tqdm(enumerate(sntwitter.TwitterSearchScraper(query).get_items())):\n",
        "            if max_tweets != -1 and i >= int(max_tweets):\n",
        "                break\n",
        "            tweets_list.append([tweet.date, tweet.id, tweet.content])\n",
        "    except KeyboardInterrupt:\n",
        "        print(\"Scraping berhenti atas permintaan pengguna\")\n",
        "    df = pd.DataFrame(tweets_list, columns=['Datetime', 'Tweet Id', 'Text'])\n",
        "    \n",
        "    df.to_csv(output_path, index=False)\n",
        "    print(\"Data tweet tersimpan di\",output_path)\n",
        "    return df"
      ]
    },
    {
      "cell_type": "markdown",
      "metadata": {},
      "source": [
        "Agar lebih akurat dan lebih ringan, kita perlu melakukan *preprocessing* terlebih dahulu. Caranya adalah menghapus tag mention, URL, dan segala karakter non alfanumerik seperti tanda baca dan emoji."
      ]
    },
    {
      "cell_type": "code",
      "execution_count": null,
      "metadata": {},
      "outputs": [],
      "source": [
        "def remove_unnecessary_char(text):\n",
        "  text = re.sub(\"\\[USERNAME\\]\", \" \", text)\n",
        "  text = re.sub(\"\\[URL\\]\", \" \", text)\n",
        "  text = re.sub(\"\\[SENSITIVE-NO\\]\", \" \", text)\n",
        "  text = re.sub('  +', ' ', text)\n",
        "  return text\n",
        "\n",
        "def preprocess_tweet(text):\n",
        "  text = re.sub('\\n',' ',text) # Remove every '\\n'\n",
        "  # text = re.sub('rt',' ',text) # Remove every retweet symbol\n",
        "  text = re.sub('^(\\@\\w+ ?)+',' ',text)\n",
        "  text = re.sub(r'\\@\\w+',' ',text) # Remove every username\n",
        "  text = re.sub('((www\\.[^\\s]+)|(https?://[^\\s]+)|(http?://[^\\s]+))',' ',text) # Remove every URL\n",
        "  text = re.sub('/', ' ', text)\n",
        "  # text = re.sub(r'[^\\w\\s]', '', text)\n",
        "  text = re.sub('  +', ' ', text) # Remove extra spaces\n",
        "  return text\n",
        "    \n",
        "def remove_nonaplhanumeric(text):\n",
        "  text = re.sub('[^0-9a-zA-Z]+', ' ', text) \n",
        "  return text\n",
        "\n",
        "def preprocess_text(text):\n",
        "  text = preprocess_tweet(text)\n",
        "  text = remove_unnecessary_char(text)\n",
        "  text = remove_nonaplhanumeric(text)\n",
        "  text = text.lower()\n",
        "  return text"
      ]
    },
    {
      "cell_type": "markdown",
      "metadata": {},
      "source": [
        "Kemudian kita bisa menggunakan pipeline `text-classification` dengan model yang sudah dibuat dan tersimpan sebagai model `karuniaperjuangan/smsa-distilbert-indo` di HuggingFace. Analisis sentimen ini dilakukan setelah proses scraping dan di akhir kita juga akan menampilkan plot Pie Chart."
      ]
    },
    {
      "cell_type": "code",
      "execution_count": 19,
      "metadata": {
        "id": "GdaIuG7qQJrt"
      },
      "outputs": [],
      "source": [
        "predict = pipeline('text-classification',\n",
        "                   model='karuniaperjuangan/smsa-distilbert-indo',\n",
        "                    device=0 if torch.cuda.is_available() else -1)\n",
        "\n",
        "def analyze_df_sentiment(df, batch_size):\n",
        "    text_list = list(df[\"Text\"].astype(str).values)\n",
        "    text_list_batches = [text_list[i:i+batch_size] for i in range(0,len(text_list),batch_size)] # Memisahkan berdasar batch size dengan bantuan zip\n",
        "    \n",
        "    predictions = []\n",
        "    for batch in tqdm(text_list_batches):\n",
        "        batch_predictions = predict(batch)\n",
        "        predictions += batch_predictions\n",
        "    df[\"Label\"] = [pred[\"label\"] for pred in predictions]\n",
        "    df[\"Score\"] = [pred[\"score\"] for pred in predictions]\n",
        "    \n",
        "    return df\n",
        "\n",
        "def keyword_analyzer(keyword, max_tweets, batch_size=16):\n",
        "    print(\"Scraping tweets...\")\n",
        "    df = scrape_tweets(keyword, max_tweets=max_tweets)\n",
        "    df[\"Text\"] = df[\"Text\"].apply(preprocess_text)\n",
        "    print(\"Analyzing sentiment...\")\n",
        "    df = analyze_df_sentiment(df, batch_size=batch_size)\n",
        "    fig = plt.figure()\n",
        "    df.groupby([\"Label\"])[\"Text\"].count().plot.pie(autopct=\"%.1f%%\", figsize=(6,6))\n",
        "    return fig, df[[\"Text\", \"Label\", \"Score\"]]\n",
        " "
      ]
    },
    {
      "cell_type": "markdown",
      "metadata": {
        "id": "EtdYnHcrQJru"
      },
      "source": [
        "# Web UI"
      ]
    },
    {
      "cell_type": "markdown",
      "metadata": {},
      "source": [
        "Kita di sini akan menjalankan aplikasi yang memiliki Web UI dengan bantuan Gradio. Kita bisa mencari berdasarkan Keyword yang ingin kita cari atau juga bisa mencoba dengan memasukkan satu teks."
      ]
    },
    {
      "cell_type": "code",
      "execution_count": 24,
      "metadata": {
        "colab": {
          "base_uri": "https://localhost:8080/",
          "height": 1000
        },
        "id": "R73wroSmQJrv",
        "outputId": "84e33717-64dc-4171-f211-e47cd447e6f6"
      },
      "outputs": [
        {
          "name": "stdout",
          "output_type": "stream",
          "text": [
            "Colab notebook detected. This cell will run indefinitely so that you can see errors and logs. To turn off, set debug=False in launch().\n",
            "Running on public URL: https://10318.gradio.app\n",
            "\n",
            "This share link expires in 72 hours. For free permanent hosting, check out Spaces: https://huggingface.co/spaces\n"
          ]
        },
        {
          "data": {
            "text/html": [
              "<div><iframe src=\"https://10318.gradio.app\" width=\"900\" height=\"500\" allow=\"autoplay; camera; microphone; clipboard-read; clipboard-write;\" frameborder=\"0\" allowfullscreen></iframe></div>"
            ],
            "text/plain": [
              "<IPython.core.display.HTML object>"
            ]
          },
          "metadata": {},
          "output_type": "display_data"
        },
        {
          "name": "stdout",
          "output_type": "stream",
          "text": [
            "Scraping tweets...\n"
          ]
        },
        {
          "name": "stderr",
          "output_type": "stream",
          "text": [
            "100it [00:02, 44.70it/s]\n"
          ]
        },
        {
          "name": "stdout",
          "output_type": "stream",
          "text": [
            "Data tweet tersimpan di ./scraper/output/2022-10-08_11-46-33-dteti ugm.csv\n",
            "Analyzing sentiment...\n"
          ]
        },
        {
          "name": "stderr",
          "output_type": "stream",
          "text": [
            "100%|██████████| 7/7 [00:08<00:00,  1.14s/it]\n"
          ]
        },
        {
          "name": "stdout",
          "output_type": "stream",
          "text": [
            "Scraping tweets...\n"
          ]
        },
        {
          "name": "stderr",
          "output_type": "stream",
          "text": [
            "100it [00:02, 41.23it/s]\n"
          ]
        },
        {
          "name": "stdout",
          "output_type": "stream",
          "text": [
            "Data tweet tersimpan di ./scraper/output/2022-10-08_11-47-18-anies baswedan.csv\n",
            "Analyzing sentiment...\n"
          ]
        },
        {
          "name": "stderr",
          "output_type": "stream",
          "text": [
            "100%|██████████| 7/7 [00:06<00:00,  1.09it/s]\n"
          ]
        },
        {
          "name": "stdout",
          "output_type": "stream",
          "text": [
            "Keyboard interruption in main thread... closing server.\n"
          ]
        },
        {
          "data": {
            "text/plain": [
              "(<gradio.routes.App at 0x7f3dccddfc90>,\n",
              " 'http://127.0.0.1:7861/',\n",
              " 'https://10318.gradio.app')"
            ]
          },
          "execution_count": 24,
          "metadata": {},
          "output_type": "execute_result"
        },
        {
          "data": {
            "image/png": "[encoded data removed]",
            "text/plain": [
              "<Figure size 432x432 with 1 Axes>"
            ]
          },
          "metadata": {},
          "output_type": "display_data"
        },
        {
          "data": {
            "image/png": "[encoded data removed]",
            "text/plain": [
              "<Figure size 432x432 with 1 Axes>"
            ]
          },
          "metadata": {},
          "output_type": "display_data"
        }
      ],
      "source": [
        "with gr.Blocks() as demo:\n",
        "    \n",
        "\n",
        "\n",
        "    gr.Markdown(\"\"\"<h1 style=\"text-align:center\">Aplikasi Sentiment Analysis Keyword Twitter </h1>\"\"\")\n",
        "    \n",
        "    gr.Markdown(\n",
        "        \"\"\"\n",
        "        Aplikasi ini digunakan untuk melakukan sentimen analisis terhadap data di Twitter menggunakan model DistilBERT. Terdapat 2 mode yang dapat digunakan:\n",
        "        1. Trend/Keyword: Untuk melakukan analisis terhadap semua tweet yang mengandung keyword yang diinputkan\n",
        "        2. Tweet: Untuk melakukan analisis terhadap sebuah tweet yang diinputkan\n",
        "        \"\"\"\n",
        "        \n",
        "        )\n",
        "    with gr.Tab(\"Trend/Keyword\"):\n",
        "        gr.Markdown(\"\"\"Masukkan keyword dan jumlah maksimum tweet yang ingin diambil\"\"\")\n",
        "        with gr.Blocks():\n",
        "            with gr.Row():\n",
        "                with gr.Column():\n",
        "                    keyword_textbox = gr.Textbox(lines=1, label=\"Keyword\")\n",
        "                    max_tweets_component = gr.Number(value=-1, label=\"Tweet Maksimal yang akan discrape (-1 jika ingin mengscrape semua tweet)\", precision=0)\n",
        "                    batch_size_component = gr.Number(value=16, label=\"Batch Size (Semakin banyak semakin cepat, tetapi semakin boros memori)\", precision=0)\n",
        "                    button = gr.Button(\"Submit\")\n",
        "                    \n",
        "                plot_component = gr.Plot(label=\"Pie Chart\")\n",
        "            dataframe_component = gr.DataFrame(type=\"pandas\", \n",
        "                                               label=\"Dataframe\", \n",
        "                                               max_rows=(20,'fixed'), \n",
        "                                               overflow_row_behaviour='paginate', \n",
        "                                               wrap=True)\n",
        "\n",
        "        \n",
        "        \n",
        "    with gr.Tab(\"Single Tweet\"):\n",
        "        gr.Interface(lambda Tweet: (predict(Tweet)[0]['label'], predict(Tweet)[0]['score']), \n",
        "                     \"textbox\",\n",
        "                     [\"label\", \"label\"],\n",
        "                     allow_flagging='never',\n",
        "                     )\n",
        "    \n",
        "    \n",
        "    gr.Markdown(\n",
        "            \"\"\"\n",
        "            \n",
        "            ## Anggota Kelompok\n",
        "            \n",
        "            - Karunia Perjuangan Mustadl'afin - 20/456368/TK/50498\n",
        "            \n",
        "            - Pramudya Kusuma Hardika - 20/460558/TK/51147\n",
        "            \n",
        "            \"\"\"\n",
        "            \n",
        "        )\n",
        "    \n",
        "    button.click(keyword_analyzer, \n",
        "                inputs=[keyword_textbox, max_tweets_component, batch_size_component], \n",
        "                outputs=[plot_component, dataframe_component])\n",
        "\n",
        "demo.launch(inbrowser=True, debug=True)"
      ]
    }
  ],
  "metadata": {
    "colab": {
      "provenance": []
    },
    "kernelspec": {
      "display_name": "Python 3.9.12 ('base')",
      "language": "python",
      "name": "python3"
    },
    "language_info": {
      "codemirror_mode": {
        "name": "ipython",
        "version": 3
      },
      "file_extension": ".py",
      "mimetype": "text/x-python",
      "name": "python",
      "nbconvert_exporter": "python",
      "pygments_lexer": "ipython3",
      "version": "3.9.12"
    },
    "orig_nbformat": 4,
    "vscode": {
      "interpreter": {
        "hash": "81bd2ac432b5952ddf1c49649eb1e47a752045e4beee075d8314834b79b876ce"
      }
    }
  },
  "nbformat": 4,
  "nbformat_minor": 0
}
